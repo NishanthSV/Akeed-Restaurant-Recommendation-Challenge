{
 "cells": [
  {
   "cell_type": "code",
   "execution_count": 15,
   "metadata": {},
   "outputs": [],
   "source": [
    "import pandas as pd\n",
    "import numpy as np\n",
    "from tqdm.notebook import tqdm"
   ]
  },
  {
   "cell_type": "code",
   "execution_count": 16,
   "metadata": {},
   "outputs": [],
   "source": [
    "train_customer = pd.read_csv('data/train_customers.csv')\n",
    "train_locations = pd.read_csv('data/train_locations.csv')\n",
    "vendors = pd.read_csv('data/vendors.csv')"
   ]
  },
  {
   "cell_type": "code",
   "execution_count": 17,
   "metadata": {},
   "outputs": [],
   "source": [
    "# drop duplicates for train customers\n",
    "train_customer.drop_duplicates(subset = \"akeed_customer_id\", keep = False, inplace = True)"
   ]
  },
  {
   "cell_type": "code",
   "execution_count": 18,
   "metadata": {},
   "outputs": [],
   "source": [
    "# merge train customer and locations\n",
    "train = train_locations.merge(train_customer, left_on = \"customer_id\", right_on = \"akeed_customer_id\", how=\"left\")\n",
    "# add all rows of vendor to each train row\n",
    "train = train.assign(key=1).merge(vendors.assign(key=1), on='key').drop('key',axis=1)"
   ]
  },
  {
   "cell_type": "code",
   "execution_count": 19,
   "metadata": {
    "scrolled": true
   },
   "outputs": [
    {
     "name": "stdout",
     "output_type": "stream",
     "text": [
      "  customer_id  location_number location_type  latitude_x  longitude_x  \\\n",
      "0     02SFNJH                0           NaN    1.682392   -78.789737   \n",
      "1     02SFNJH                0           NaN    1.682392   -78.789737   \n",
      "2     02SFNJH                0           NaN    1.682392   -78.789737   \n",
      "3     02SFNJH                0           NaN    1.682392   -78.789737   \n",
      "4     02SFNJH                0           NaN    1.682392   -78.789737   \n",
      "\n",
      "  akeed_customer_id gender  dob  status_x  verified_x  ... open_close_flags  \\\n",
      "0           02SFNJH    NaN  NaN       1.0         1.0  ...              1.0   \n",
      "1           02SFNJH    NaN  NaN       1.0         1.0  ...              1.0   \n",
      "2           02SFNJH    NaN  NaN       1.0         1.0  ...              1.0   \n",
      "3           02SFNJH    NaN  NaN       1.0         1.0  ...              1.0   \n",
      "4           02SFNJH    NaN  NaN       1.0         1.0  ...              1.0   \n",
      "\n",
      "                  vendor_tag  \\\n",
      "0  2,4,5,8,91,22,12,24,16,23   \n",
      "1  4,41,51,34,27,15,24,16,28   \n",
      "2                  4,8,91,10   \n",
      "3                  5,8,30,24   \n",
      "4                          5   \n",
      "\n",
      "                                     vendor_tag_name  one_click_vendor  \\\n",
      "0  Arabic,Breakfast,Burgers,Desserts,Free Deliver...                 Y   \n",
      "1  Breakfast,Cakes,Crepes,Italian,Pasta,Pizzas,Sa...                 Y   \n",
      "2            Breakfast,Desserts,Free Delivery,Indian                 Y   \n",
      "3                      Burgers,Desserts,Fries,Salads                 Y   \n",
      "4                                            Burgers                 Y   \n",
      "\n",
      "   country_id  city_id         created_at_y         updated_at_y  device_type  \\\n",
      "0         1.0      1.0  2018-01-30 14:42:04  2020-04-07 15:12:43            3   \n",
      "1         1.0      1.0  2018-05-03 12:32:06  2020-04-05 20:46:03            3   \n",
      "2         1.0      1.0  2018-05-04 22:28:22  2020-04-07 16:35:55            3   \n",
      "3         1.0      1.0  2018-05-06 19:20:48  2020-04-02 00:56:17            3   \n",
      "4         1.0      1.0  2018-05-17 22:12:38  2020-04-05 15:57:41            3   \n",
      "\n",
      "   display_orders  \n",
      "0               1  \n",
      "1               1  \n",
      "2               1  \n",
      "3               1  \n",
      "4               1  \n",
      "\n",
      "[5 rows x 72 columns]\n",
      "5950300\n"
     ]
    }
   ],
   "source": [
    "print(train.head())\n",
    "print(len(train))"
   ]
  },
  {
   "cell_type": "code",
   "execution_count": 20,
   "metadata": {},
   "outputs": [],
   "source": [
    "data_types = dict(train.dtypes)"
   ]
  },
  {
   "cell_type": "code",
   "execution_count": 21,
   "metadata": {
    "scrolled": true
   },
   "outputs": [
    {
     "data": {
      "text/plain": [
       "{'customer_id': dtype('O'),\n",
       " 'location_number': dtype('int64'),\n",
       " 'location_type': dtype('O'),\n",
       " 'latitude_x': dtype('float64'),\n",
       " 'longitude_x': dtype('float64'),\n",
       " 'akeed_customer_id': dtype('O'),\n",
       " 'gender': dtype('O'),\n",
       " 'dob': dtype('float64'),\n",
       " 'status_x': dtype('float64'),\n",
       " 'verified_x': dtype('float64'),\n",
       " 'language_x': dtype('O'),\n",
       " 'created_at_x': dtype('O'),\n",
       " 'updated_at_x': dtype('O'),\n",
       " 'id': dtype('int64'),\n",
       " 'authentication_id': dtype('float64'),\n",
       " 'latitude_y': dtype('float64'),\n",
       " 'longitude_y': dtype('float64'),\n",
       " 'vendor_category_en': dtype('O'),\n",
       " 'vendor_category_id': dtype('float64'),\n",
       " 'delivery_charge': dtype('float64'),\n",
       " 'serving_distance': dtype('float64'),\n",
       " 'is_open': dtype('float64'),\n",
       " 'OpeningTime': dtype('O'),\n",
       " 'OpeningTime2': dtype('O'),\n",
       " 'prepration_time': dtype('int64'),\n",
       " 'commission': dtype('float64'),\n",
       " 'is_akeed_delivering': dtype('O'),\n",
       " 'discount_percentage': dtype('float64'),\n",
       " 'status_y': dtype('float64'),\n",
       " 'verified_y': dtype('int64'),\n",
       " 'rank': dtype('int64'),\n",
       " 'language_y': dtype('O'),\n",
       " 'vendor_rating': dtype('float64'),\n",
       " 'sunday_from_time1': dtype('O'),\n",
       " 'sunday_to_time1': dtype('O'),\n",
       " 'sunday_from_time2': dtype('O'),\n",
       " 'sunday_to_time2': dtype('O'),\n",
       " 'monday_from_time1': dtype('O'),\n",
       " 'monday_to_time1': dtype('O'),\n",
       " 'monday_from_time2': dtype('O'),\n",
       " 'monday_to_time2': dtype('O'),\n",
       " 'tuesday_from_time1': dtype('O'),\n",
       " 'tuesday_to_time1': dtype('O'),\n",
       " 'tuesday_from_time2': dtype('O'),\n",
       " 'tuesday_to_time2': dtype('O'),\n",
       " 'wednesday_from_time1': dtype('O'),\n",
       " 'wednesday_to_time1': dtype('O'),\n",
       " 'wednesday_from_time2': dtype('O'),\n",
       " 'wednesday_to_time2': dtype('O'),\n",
       " 'thursday_from_time1': dtype('O'),\n",
       " 'thursday_to_time1': dtype('O'),\n",
       " 'thursday_from_time2': dtype('O'),\n",
       " 'thursday_to_time2': dtype('O'),\n",
       " 'friday_from_time1': dtype('O'),\n",
       " 'friday_to_time1': dtype('O'),\n",
       " 'friday_from_time2': dtype('O'),\n",
       " 'friday_to_time2': dtype('O'),\n",
       " 'saturday_from_time1': dtype('O'),\n",
       " 'saturday_to_time1': dtype('O'),\n",
       " 'saturday_from_time2': dtype('O'),\n",
       " 'saturday_to_time2': dtype('O'),\n",
       " 'primary_tags': dtype('O'),\n",
       " 'open_close_flags': dtype('float64'),\n",
       " 'vendor_tag': dtype('O'),\n",
       " 'vendor_tag_name': dtype('O'),\n",
       " 'one_click_vendor': dtype('O'),\n",
       " 'country_id': dtype('float64'),\n",
       " 'city_id': dtype('float64'),\n",
       " 'created_at_y': dtype('O'),\n",
       " 'updated_at_y': dtype('O'),\n",
       " 'device_type': dtype('int64'),\n",
       " 'display_orders': dtype('int64')}"
      ]
     },
     "execution_count": 21,
     "metadata": {},
     "output_type": "execute_result"
    }
   ],
   "source": [
    "data_types"
   ]
  },
  {
   "cell_type": "code",
   "execution_count": 22,
   "metadata": {},
   "outputs": [],
   "source": [
    "train['customer_id'] = train['customer_id'].astype(str)"
   ]
  },
  {
   "cell_type": "code",
   "execution_count": 23,
   "metadata": {},
   "outputs": [
    {
     "data": {
      "text/plain": [
       "True"
      ]
     },
     "execution_count": 23,
     "metadata": {},
     "output_type": "execute_result"
    }
   ],
   "source": [
    "data_types['customer_id'] == np.dtype('O')"
   ]
  },
  {
   "cell_type": "code",
   "execution_count": 24,
   "metadata": {},
   "outputs": [],
   "source": [
    "train['CID X LOC_NUM X VENDOR'] = train[\"akeed_customer_id\"].astype(str)+\" X \"+ \\\n",
    "train[\"location_number\"].astype(str) +\" X \"+ train[\"id\"].astype(str)"
   ]
  },
  {
   "cell_type": "code",
   "execution_count": 25,
   "metadata": {},
   "outputs": [
    {
     "data": {
      "text/plain": [
       "5950300"
      ]
     },
     "execution_count": 25,
     "metadata": {},
     "output_type": "execute_result"
    }
   ],
   "source": [
    "len(train)"
   ]
  },
  {
   "cell_type": "code",
   "execution_count": null,
   "metadata": {},
   "outputs": [],
   "source": []
  }
 ],
 "metadata": {
  "kernelspec": {
   "display_name": "Python 3",
   "language": "python",
   "name": "python3"
  },
  "language_info": {
   "codemirror_mode": {
    "name": "ipython",
    "version": 3
   },
   "file_extension": ".py",
   "mimetype": "text/x-python",
   "name": "python",
   "nbconvert_exporter": "python",
   "pygments_lexer": "ipython3",
   "version": "3.7.7"
  }
 },
 "nbformat": 4,
 "nbformat_minor": 4
}
